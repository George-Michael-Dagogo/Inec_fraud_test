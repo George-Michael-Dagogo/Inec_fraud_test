{
 "cells": [
  {
   "cell_type": "code",
   "execution_count": 1,
   "id": "99635409",
   "metadata": {},
   "outputs": [],
   "source": [
    "import pandas as pd\n",
    "import numpy as np\n",
    "from random import randint\n",
    "from sklearn.utils import shuffle\n",
    "from sklearn.preprocessing import MinMaxScaler\n",
    "import tensorflow as tf\n",
    "from tensorflow import keras\n",
    "from tensorflow.keras.models import Sequential\n",
    "from tensorflow.keras.layers import Activation, Dense, Flatten, BatchNormalization, Conv2D, MaxPool2D\n",
    "from tensorflow.keras.optimizers import Adam\n",
    "from tensorflow.keras.metrics import categorical_crossentropy\n",
    "from tensorflow.keras.preprocessing.image import ImageDataGenerator\n",
    "from sklearn.metrics import confusion_matrix\n",
    "import itertools\n",
    "import os\n",
    "import shutil\n",
    "import random\n",
    "import glob\n",
    "import matplotlib.pyplot as plt\n",
    "import warnings\n",
    "warnings.simplefilter(action='ignore', category=FutureWarning)\n",
    "%matplotlib inline"
   ]
  },
  {
   "cell_type": "markdown",
   "id": "a1306672",
   "metadata": {},
   "source": [
    "## Analysing the Voters' Records to identify duplicate Voters"
   ]
  },
  {
   "cell_type": "markdown",
   "id": "08443a94",
   "metadata": {},
   "source": [
    "---"
   ]
  },
  {
   "cell_type": "code",
   "execution_count": 2,
   "id": "cb946bee",
   "metadata": {},
   "outputs": [],
   "source": [
    "df = pd.read_csv(\".\\BAYELSA\\BAYELSA.csv\")"
   ]
  },
  {
   "cell_type": "code",
   "execution_count": 3,
   "id": "f9b4dd81",
   "metadata": {},
   "outputs": [
    {
     "data": {
      "text/html": [
       "<div>\n",
       "<style scoped>\n",
       "    .dataframe tbody tr th:only-of-type {\n",
       "        vertical-align: middle;\n",
       "    }\n",
       "\n",
       "    .dataframe tbody tr th {\n",
       "        vertical-align: top;\n",
       "    }\n",
       "\n",
       "    .dataframe thead th {\n",
       "        text-align: right;\n",
       "    }\n",
       "</style>\n",
       "<table border=\"1\" class=\"dataframe\">\n",
       "  <thead>\n",
       "    <tr style=\"text-align: right;\">\n",
       "      <th></th>\n",
       "      <th>Voters_name</th>\n",
       "      <th>VIN</th>\n",
       "      <th>DOB</th>\n",
       "      <th>Gender</th>\n",
       "      <th>LGA</th>\n",
       "      <th>Polling_unit</th>\n",
       "      <th>Ward</th>\n",
       "      <th>Delim</th>\n",
       "      <th>Records</th>\n",
       "      <th>Picture_link</th>\n",
       "    </tr>\n",
       "  </thead>\n",
       "  <tbody>\n",
       "    <tr>\n",
       "      <th>0</th>\n",
       "      <td>Abadani, Loveday O.</td>\n",
       "      <td>90F5AC01DE496391096</td>\n",
       "      <td>1963</td>\n",
       "      <td>M</td>\n",
       "      <td>BRASS</td>\n",
       "      <td>TOWN COMMUNITY SCHOOL BUILDING</td>\n",
       "      <td>BRASS 1</td>\n",
       "      <td>06-01-01-001</td>\n",
       "      <td>520</td>\n",
       "      <td>https://6nnwbexvzjtfzl5schommtcz3a0ulnlu.lambd...</td>\n",
       "    </tr>\n",
       "    <tr>\n",
       "      <th>1</th>\n",
       "      <td>ABADI, FUROMUNAYE</td>\n",
       "      <td>90F5B1CE4E295958015</td>\n",
       "      <td>1974</td>\n",
       "      <td>F</td>\n",
       "      <td>BRASS</td>\n",
       "      <td>TOWN COMMUNITY SCHOOL BUILDING</td>\n",
       "      <td>BRASS 1</td>\n",
       "      <td>06-01-01-001</td>\n",
       "      <td>520</td>\n",
       "      <td>https://6nnwbexvzjtfzl5schommtcz3a0ulnlu.lambd...</td>\n",
       "    </tr>\n",
       "    <tr>\n",
       "      <th>2</th>\n",
       "      <td>ABADI, PRINCE I.</td>\n",
       "      <td>90F5B1CE4E295435993</td>\n",
       "      <td>1983</td>\n",
       "      <td>M</td>\n",
       "      <td>BRASS</td>\n",
       "      <td>TOWN COMMUNITY SCHOOL BUILDING</td>\n",
       "      <td>BRASS 1</td>\n",
       "      <td>06-01-01-001</td>\n",
       "      <td>520</td>\n",
       "      <td>https://6nnwbexvzjtfzl5schommtcz3a0ulnlu.lambd...</td>\n",
       "    </tr>\n",
       "    <tr>\n",
       "      <th>3</th>\n",
       "      <td>ABEL, ETUNIM W.</td>\n",
       "      <td>90F5B1CE4E296840333</td>\n",
       "      <td>1980</td>\n",
       "      <td>M</td>\n",
       "      <td>BRASS</td>\n",
       "      <td>TOWN COMMUNITY SCHOOL BUILDING</td>\n",
       "      <td>BRASS 1</td>\n",
       "      <td>06-01-01-001</td>\n",
       "      <td>520</td>\n",
       "      <td>https://6nnwbexvzjtfzl5schommtcz3a0ulnlu.lambd...</td>\n",
       "    </tr>\n",
       "    <tr>\n",
       "      <th>4</th>\n",
       "      <td>ABIMBOLA, ABEL</td>\n",
       "      <td>030DF10951401810014</td>\n",
       "      <td>1972</td>\n",
       "      <td>M</td>\n",
       "      <td>BRASS</td>\n",
       "      <td>TOWN COMMUNITY SCHOOL BUILDING</td>\n",
       "      <td>BRASS 1</td>\n",
       "      <td>06-01-01-001</td>\n",
       "      <td>520</td>\n",
       "      <td>https://6nnwbexvzjtfzl5schommtcz3a0ulnlu.lambd...</td>\n",
       "    </tr>\n",
       "  </tbody>\n",
       "</table>\n",
       "</div>"
      ],
      "text/plain": [
       "           Voters_name                   VIN               DOB Gender    LGA  \\\n",
       "0  Abadani, Loveday O.   90F5AC01DE496391096   1963                 M  BRASS   \n",
       "1    ABADI, FUROMUNAYE   90F5B1CE4E295958015   1974                 F  BRASS   \n",
       "2     ABADI, PRINCE I.   90F5B1CE4E295435993   1983                 M  BRASS   \n",
       "3      ABEL, ETUNIM W.   90F5B1CE4E296840333   1980                 M  BRASS   \n",
       "4       ABIMBOLA, ABEL   030DF10951401810014   1972                 M  BRASS   \n",
       "\n",
       "                     Polling_unit     Ward         Delim Records  \\\n",
       "0  TOWN COMMUNITY SCHOOL BUILDING  BRASS 1  06-01-01-001     520   \n",
       "1  TOWN COMMUNITY SCHOOL BUILDING  BRASS 1  06-01-01-001     520   \n",
       "2  TOWN COMMUNITY SCHOOL BUILDING  BRASS 1  06-01-01-001     520   \n",
       "3  TOWN COMMUNITY SCHOOL BUILDING  BRASS 1  06-01-01-001     520   \n",
       "4  TOWN COMMUNITY SCHOOL BUILDING  BRASS 1  06-01-01-001     520   \n",
       "\n",
       "                                        Picture_link  \n",
       "0  https://6nnwbexvzjtfzl5schommtcz3a0ulnlu.lambd...  \n",
       "1  https://6nnwbexvzjtfzl5schommtcz3a0ulnlu.lambd...  \n",
       "2  https://6nnwbexvzjtfzl5schommtcz3a0ulnlu.lambd...  \n",
       "3  https://6nnwbexvzjtfzl5schommtcz3a0ulnlu.lambd...  \n",
       "4  https://6nnwbexvzjtfzl5schommtcz3a0ulnlu.lambd...  "
      ]
     },
     "execution_count": 3,
     "metadata": {},
     "output_type": "execute_result"
    }
   ],
   "source": [
    "df.head()"
   ]
  },
  {
   "cell_type": "code",
   "execution_count": 4,
   "id": "776ab130",
   "metadata": {},
   "outputs": [
    {
     "data": {
      "text/plain": [
       "(432, 10)"
      ]
     },
     "execution_count": 4,
     "metadata": {},
     "output_type": "execute_result"
    }
   ],
   "source": [
    "df.shape"
   ]
  },
  {
   "cell_type": "code",
   "execution_count": 6,
   "id": "70869320",
   "metadata": {},
   "outputs": [
    {
     "data": {
      "text/plain": [
       "['EREFORO, ROSE',\n",
       " 'LIVINGSTONE, LOVEDAY',\n",
       " 'INAMUNA, MAGRET',\n",
       " 'Ramound, Emmanuel',\n",
       " 'OKECHUKWU, BENSON A.',\n",
       " 'ADE, JOHN',\n",
       " 'SAMUEL, SUNNY O.',\n",
       " 'ONOKUMA, NWAMAKA',\n",
       " 'OKOTIE, ANTHONY A.',\n",
       " 'KORUBO, EBINYO']"
      ]
     },
     "execution_count": 6,
     "metadata": {},
     "output_type": "execute_result"
    }
   ],
   "source": [
    "unique_names = list(set(df['Voters_name'].to_list()))\n",
    "unique_names[:10]"
   ]
  },
  {
   "cell_type": "code",
   "execution_count": 7,
   "id": "cfae7a21",
   "metadata": {},
   "outputs": [
    {
     "data": {
      "text/plain": [
       "432"
      ]
     },
     "execution_count": 7,
     "metadata": {},
     "output_type": "execute_result"
    }
   ],
   "source": [
    "len(unique_names)"
   ]
  },
  {
   "cell_type": "code",
   "execution_count": null,
   "id": "ea22bb09",
   "metadata": {},
   "outputs": [],
   "source": []
  },
  {
   "cell_type": "markdown",
   "id": "3434577e",
   "metadata": {},
   "source": [
    "## Analysing the Voters' Images using CNN"
   ]
  },
  {
   "cell_type": "markdown",
   "id": "a2f1e575",
   "metadata": {},
   "source": [
    "---"
   ]
  },
  {
   "cell_type": "code",
   "execution_count": null,
   "id": "0157f014",
   "metadata": {},
   "outputs": [],
   "source": [
    "modelcnn = Sequential([\n",
    "    Conv2D(filters=32, kernel_size=(3,3), activation='relu', padding='same', input_shape=(224,224,3)),\n",
    "    MaxPool2D(pool_size=(2,2), strides=2),\n",
    "    Conv2D(filters=64, kernel_size=(3,3), activation='relu', padding='same'),\n",
    "    MaxPool2D(pool_size=(2,2), strides=2),\n",
    "    Flatten(),\n",
    "    Dense(units=2, activation='softmax'),\n",
    "])"
   ]
  },
  {
   "cell_type": "code",
   "execution_count": null,
   "id": "d6a69571",
   "metadata": {},
   "outputs": [],
   "source": [
    "modelcnn.summary()"
   ]
  },
  {
   "cell_type": "code",
   "execution_count": null,
   "id": "cf0bfb4c",
   "metadata": {},
   "outputs": [],
   "source": [
    "modelcnn.compile(optimizer=Adam(learning_rate=0.0001), loss='categorical_crossentropy', metrics=['accuracy'])"
   ]
  },
  {
   "cell_type": "code",
   "execution_count": null,
   "id": "e61905f4",
   "metadata": {},
   "outputs": [],
   "source": [
    "modelcnn.fit(x=train_batches, validation_data=valid_batches, epochs=10, verbose=2)"
   ]
  }
 ],
 "metadata": {
  "kernelspec": {
   "display_name": "Python 3 (ipykernel)",
   "language": "python",
   "name": "python3"
  },
  "language_info": {
   "codemirror_mode": {
    "name": "ipython",
    "version": 3
   },
   "file_extension": ".py",
   "mimetype": "text/x-python",
   "name": "python",
   "nbconvert_exporter": "python",
   "pygments_lexer": "ipython3",
   "version": "3.9.12"
  }
 },
 "nbformat": 4,
 "nbformat_minor": 5
}
